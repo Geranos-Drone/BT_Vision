{
 "cells": [
  {
   "cell_type": "code",
   "execution_count": 53,
   "id": "50ac1c25",
   "metadata": {},
   "outputs": [
    {
     "name": "stdout",
     "output_type": "stream",
     "text": [
      "Type: <class 'dict'>\n",
      "{'info': {'description': 'Pole Dataset', 'url': 'https://geranos.ethz.ch/', 'version': '1.0', 'year': 2022, 'contributor': 'Geranos ETHZ', 'date_created': '2022/04/27'}, 'licenses': [{'url': '', 'id': 1, 'name': 'NONE'}], 'images': [{'license': 1, 'file_name': 'img1.png', 'height': 4032, 'width': 3024, 'date_captured': '2022-04-26 11:37:19', 'coco_url': '', 'flickr_url': '', 'id': 17}], 'annotations': [{'segmentation': [], 'num_keypoints': 8, 'area': 5463.6864, 'iscrowd': 0, 'keypoints': [0, 0, 0, 35.28241517030532, 14.49119719001639, 2, 58.50563228959729, 15.153431988131127, 2, 0, 0, 0, 0, 0, 0, 47.64013378960977, 96.13742100548514, 2, 56.149545654611465, 97.43861975465072, 2, 0, 0, 0], 'image_id': 17, 'bbox': [204.01, 235.08, 60.84, 177.36], 'category_id': 420, 'id': 100000}], 'categories': [{'supercategory': 'poles', 'id': 420, 'name': 'pole', 'keypoints': ['l1', 'l2', 'l3', 'l4', 'l5', 'l6', 'l7', 'l8'], 'skeleton': [[[1, 2], [1, 4], [1, 5], [2, 3], [2, 6], [3, 4], [3, 7], [4, 8], [5, 8], [5, 6], [6, 7], [7, 8]]]}]}\n"
     ]
    }
   ],
   "source": [
    "import glob\n",
    "import os\n",
    "import time\n",
    "from shutil import copyfile\n",
    "import json\n",
    "import argparse\n",
    "import cv2\n",
    "\n",
    "import numpy as np\n",
    "from PIL import Image\n",
    "\n",
    "import matplotlib.pyplot\n",
    "\n",
    "\n",
    "with open('coco_example.json') as json_file:\n",
    "    data = json.load(json_file)\n",
    " \n",
    "    # Print the type of data variable\n",
    "    print(\"Type:\", type(data))\n",
    "\n",
    "# Print the data of dictionary\n",
    "print(data)\n"
   ]
  },
  {
   "cell_type": "code",
   "execution_count": 54,
   "id": "89208f94",
   "metadata": {},
   "outputs": [],
   "source": [
    "annotations_new = data.get('annotations')\n",
    "keypoints_old = annotations_new[0].get('keypoints')\n",
    "data_new = data\n",
    "m = []\n",
    "pixel_x = []\n",
    "pixel_y = []\n",
    "width = 3024\n",
    "height = 4032\n",
    "\n",
    "for i in range(int(len(keypoints_old)/3)):\n",
    "    pixel_x.append(keypoints_old[3*i]*width/100)\n",
    "    pixel_y.append(keypoints_old[3*i+1]*height/100)\n",
    "    m.append(keypoints_old[3*i+2])\n",
    "\n",
    "for i in range(int(len(keypoints_old)/3)):\n",
    "    \n",
    "    keypoints_new.append(pixel_x[i])\n",
    "    keypoints_new.append(pixel_y[i])\n",
    "    keypoints_new.append(m[i])\n",
    "    \n",
    "max_pixel_x = max(pixel_x)\n",
    "max_pixel_y = max(pixel_y)\n",
    "    \n",
    "for i in range(int(len(keypoints_old)/3)):\n",
    "    if pixel_x[i] < 0.001: \n",
    "        pixel_x[i]+=10000\n",
    "    if pixel_y[i] < 0.001: \n",
    "        pixel_y[i]+=10000"
   ]
  },
  {
   "cell_type": "code",
   "execution_count": 55,
   "id": "da03cc31",
   "metadata": {},
   "outputs": [],
   "source": [
    "annotations_new[0]['keypoints'] = keypoints_new\n",
    "bbox_new = [min(pixel_x),min(pixel_y),max_pixel_x-min(pixel_x),max_pixel_y-min(pixel_y)]\n",
    "annotations_new[0]['bbox'] = bbox_new\n",
    "annotations_new[0]['area'] = (max_pixel_x-min(pixel_x))*(max_pixel_y-min(pixel_y))"
   ]
  },
  {
   "cell_type": "code",
   "execution_count": 56,
   "id": "4d133b19",
   "metadata": {},
   "outputs": [],
   "source": [
    "data_new['annotations'] = annotations_new"
   ]
  },
  {
   "cell_type": "code",
   "execution_count": 57,
   "id": "c924218f",
   "metadata": {},
   "outputs": [
    {
     "name": "stdout",
     "output_type": "stream",
     "text": [
      "{'info': {'description': 'Pole Dataset', 'url': 'https://geranos.ethz.ch/', 'version': '1.0', 'year': 2022, 'contributor': 'Geranos ETHZ', 'date_created': '2022/04/27'}, 'licenses': [{'url': '', 'id': 1, 'name': 'NONE'}], 'images': [{'license': 1, 'file_name': 'img1.png', 'height': 4032, 'width': 3024, 'date_captured': '2022-04-26 11:37:19', 'coco_url': '', 'flickr_url': '', 'id': 17}], 'annotations': [{'segmentation': [], 'num_keypoints': 8, 'area': 84111144.19598022, 'iscrowd': 0, 'keypoints': [0.0, 0.0, 0, 1066.940234750033, 584.2850707014609, 2, 1769.2103204374218, 610.986377761447, 2, 0.0, 0.0, 0, 0.0, 0.0, 0, 1440.6376457977995, 3876.2608149411603, 2, 1697.9622605954507, 3928.7251485075167, 2, 0.0, 0.0, 0, 0.0, 0.0, 0, 1066.940234750033, 584.2850707014609, 2, 1769.2103204374218, 610.986377761447, 2, 0.0, 0.0, 0, 0.0, 0.0, 0, 1440.6376457977995, 3876.2608149411603, 2, 1697.9622605954507, 3928.7251485075167, 2, 0.0, 0.0, 0, 0.0, 0.0, 0, 1066.940234750033, 584.2850707014609, 2, 1769.2103204374218, 610.986377761447, 2, 0.0, 0.0, 0, 0.0, 0.0, 0, 1440.6376457977995, 3876.2608149411603, 2, 1697.9622605954507, 3928.7251485075167, 2, 0.0, 0.0, 0], 'image_id': 17, 'bbox': [1066.940234750033, 584.2850707014609, 8933.059765249967, 9415.71492929854], 'category_id': 420, 'id': 100000}], 'categories': [{'supercategory': 'poles', 'id': 420, 'name': 'pole', 'keypoints': ['l1', 'l2', 'l3', 'l4', 'l5', 'l6', 'l7', 'l8'], 'skeleton': [[[1, 2], [1, 4], [1, 5], [2, 3], [2, 6], [3, 4], [3, 7], [4, 8], [5, 8], [5, 6], [6, 7], [7, 8]]]}]}\n"
     ]
    }
   ],
   "source": [
    "print(data_new)"
   ]
  },
  {
   "cell_type": "code",
   "execution_count": null,
   "id": "b2503c80",
   "metadata": {},
   "outputs": [],
   "source": []
  }
 ],
 "metadata": {
  "kernelspec": {
   "display_name": "Python [conda env:vision] *",
   "language": "python",
   "name": "conda-env-vision-py"
  },
  "language_info": {
   "codemirror_mode": {
    "name": "ipython",
    "version": 3
   },
   "file_extension": ".py",
   "mimetype": "text/x-python",
   "name": "python",
   "nbconvert_exporter": "python",
   "pygments_lexer": "ipython3",
   "version": "3.7.11"
  }
 },
 "nbformat": 4,
 "nbformat_minor": 5
}
