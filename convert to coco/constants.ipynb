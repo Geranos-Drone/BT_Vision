{
 "cells": [
  {
   "cell_type": "code",
   "execution_count": 2,
   "id": "0bf13f30",
   "metadata": {},
   "outputs": [],
   "source": [
    "import os\n",
    "\n",
    "import numpy as np\n",
    "\n",
    "import openpifpaf\n",
    "\n",
    "\n",
    "POLE_KEYPOINTS = [\n",
    "    'star',        #1\n",
    "    'rhomb',       #2\n",
    "    'torp',        #3\n",
    "    'tear',        #4\n",
    "    'arrow',       #5\n",
    "    'triangle',    #6\n",
    "    'ninja',       #7\n",
    "    'bolt'         #8\n",
    "]\n",
    "\n",
    "POLE_SKELETON = [\n",
    "    [1,2],[1,4],[1,5],[2,3],[2,6],[3,4],[3,7],[4,8],[5,8],[5,6],[6,7],[7,8]\n",
    "]"
   ]
  },
  {
   "cell_type": "code",
   "execution_count": null,
   "id": "c8e69fc9",
   "metadata": {},
   "outputs": [],
   "source": []
  }
 ],
 "metadata": {
  "kernelspec": {
   "display_name": "Python [conda env:vision] *",
   "language": "python",
   "name": "conda-env-vision-py"
  },
  "language_info": {
   "codemirror_mode": {
    "name": "ipython",
    "version": 3
   },
   "file_extension": ".py",
   "mimetype": "text/x-python",
   "name": "python",
   "nbconvert_exporter": "python",
   "pygments_lexer": "ipython3",
   "version": "3.7.11"
  }
 },
 "nbformat": 4,
 "nbformat_minor": 5
}
