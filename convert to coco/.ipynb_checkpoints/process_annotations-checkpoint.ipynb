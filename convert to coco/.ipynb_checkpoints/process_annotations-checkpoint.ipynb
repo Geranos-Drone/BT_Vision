{
 "cells": [
  {
   "cell_type": "code",
   "execution_count": 43,
   "id": "87b5a676",
   "metadata": {
    "scrolled": false
   },
   "outputs": [
    {
     "name": "stdout",
     "output_type": "stream",
     "text": [
      "Type: <class 'list'>\n",
      "[{'id': 18, 'annotations': [{'id': 18, 'completed_by': 1, 'result': [{'original_width': 3024, 'original_height': 4032, 'image_rotation': 0, 'value': {'x': 41.151515151515156, 'y': 7.63636363636364, 'width': 0.26666666666666666, 'keypointlabels': ['star']}, 'id': '3QnPBMVaej', 'from_name': 'kp-1', 'to_name': 'img-1', 'type': 'keypointlabels', 'origin': 'manual'}, {'original_width': 3024, 'original_height': 4032, 'image_rotation': 0, 'value': {'x': 53.03030303030303, 'y': 6.63636363636364, 'width': 0.26666666666666666, 'keypointlabels': ['rhomb']}, 'id': 'BLQB8qy28F', 'from_name': 'kp-1', 'to_name': 'img-1', 'type': 'keypointlabels', 'origin': 'manual'}, {'original_width': 3024, 'original_height': 4032, 'image_rotation': 0, 'value': {'x': 53.40811566013978, 'y': 96.87793425775803, 'width': 0.26666666666666666, 'keypointlabels': ['triangle']}, 'id': 'AnaknPXyLK', 'from_name': 'kp-1', 'to_name': 'img-1', 'type': 'keypointlabels', 'origin': 'manual'}, {'original_width': 3024, 'original_height': 4032, 'image_rotation': 0, 'value': {'x': 46.26306095996815, 'y': 93.77852539457544, 'width': 0.26666666666666666, 'keypointlabels': ['arrow']}, 'id': 'FDQFWELv7y', 'from_name': 'kp-1', 'to_name': 'img-1', 'type': 'keypointlabels', 'origin': 'manual'}], 'was_cancelled': False, 'ground_truth': False, 'created_at': '2022-04-30T13:25:15.442305Z', 'updated_at': '2022-04-30T13:25:17.165713Z', 'lead_time': 582.916, 'prediction': {}, 'result_count': 0, 'task': 18, 'parent_prediction': None, 'parent_annotation': None}], 'file_upload': '33ec610c-PXL_20220426_100741271.jpg', 'drafts': [], 'predictions': [], 'data': {'img': '/data/upload/7/33ec610c-PXL_20220426_100741271.jpg'}, 'meta': {}, 'created_at': '2022-04-30T13:18:48.101141Z', 'updated_at': '2022-04-30T13:25:17.186729Z', 'project': 7}]\n"
     ]
    }
   ],
   "source": [
    "import glob\n",
    "import os\n",
    "import time\n",
    "from shutil import copyfile\n",
    "import json\n",
    "import argparse\n",
    "import cv2\n",
    "\n",
    "import numpy as np\n",
    "from PIL import Image\n",
    "\n",
    "import matplotlib.pyplot\n",
    "\n",
    "POLE_KEYPOINTS = [\n",
    "    'star',        #1\n",
    "    'rhomb',       #2\n",
    "    'torp',        #3\n",
    "    'tear',        #4\n",
    "    'arrow',       #5\n",
    "    'triangle',    #6\n",
    "    'ninja',       #7\n",
    "    'bolt'         #8\n",
    "]\n",
    "\n",
    "POLE_SKELETON = [\n",
    "    [1,2],[1,4],[1,5],[2,3],[2,6],[3,4],[3,7],[4,8],[5,8],[5,6],[6,7],[7,8]\n",
    "]\n",
    "\n",
    "\n",
    "with open('test_dataset/annotations/test_file.json') as json_file:\n",
    "    data = json.load(json_file)\n",
    " \n",
    "    # Print the type of data variable\n",
    "    print(\"Type:\", type(data))\n",
    "\n",
    "# Print the data of dictionary\n",
    "print(data)\n",
    "\n",
    "img_ids = [18]"
   ]
  },
  {
   "cell_type": "code",
   "execution_count": 44,
   "id": "5b8aa16c",
   "metadata": {},
   "outputs": [],
   "source": [
    "annotations = []"
   ]
  },
  {
   "cell_type": "code",
   "execution_count": 46,
   "id": "578b8f25",
   "metadata": {},
   "outputs": [],
   "source": [
    "annotation_id = 10000\n",
    "for id_ in img_ids:\n",
    "    for i_1 in range(len(data)):\n",
    "        if data[i_1].get('id') == id_:\n",
    "            annotation_id += 1\n",
    "            keypoints_coco = []\n",
    "            bbox_inst = []\n",
    "            area_inst = []\n",
    "            annotation_inst = data[i_1].get('annotations')\n",
    "            result_inst = annotation_inst[0].get('result')\n",
    "            i_2 = 0\n",
    "            x_i = []\n",
    "            y_i = []\n",
    "            for label_inst in POLE_KEYPOINTS:\n",
    "                \n",
    "                if result_inst[i_2]['value']['keypointlabels'][0] == label_inst:\n",
    "                    x_ii = result_inst[i_1]['value']['x']*o_width/100\n",
    "                    y_ii = result_inst[i_1]['value']['y']*o_height/100\n",
    "                    keypoints_coco.append(x_ii)\n",
    "                    keypoints_coco.append(y_ii)\n",
    "                    x_i.append(x_ii)\n",
    "                    y_i.append(y_ii)\n",
    "                    keypoints_coco.append(2)\n",
    "                    i_2 += 1\n",
    "                else:\n",
    "                    keypoints_coco.append(0)\n",
    "                    keypoints_coco.append(0)\n",
    "                    keypoints_coco.append(0)\n",
    "            \n",
    "            bbox_inst = [min(x_i),min(y_i),max(x_i)-min(x_i),max(y_i)-min(y_i)]\n",
    "            area_inst = (max(x_i)-min(x_i))*(max(y_i)-min(y_i))\n",
    "            annotations.append(\n",
    "                {\n",
    "                    \"segmentation\":[],\n",
    "                    \"num_keypoints\": len(POLE_KEYPOINTS),\n",
    "                    \"iscrowd\": 0,\n",
    "                    \"keypoints\": keypoints_coco,\n",
    "                    \"image_id\": id_,\n",
    "                    \"category_id\": 420,\n",
    "                    \"id\": annotation_id,\n",
    "                    \"area\": area_inst,\n",
    "                    \"bbox\": bbox_inst\n",
    "                }\n",
    "            )\n",
    "                \n",
    "                "
   ]
  },
  {
   "cell_type": "code",
   "execution_count": 47,
   "id": "73258aab",
   "metadata": {},
   "outputs": [
    {
     "name": "stdout",
     "output_type": "stream",
     "text": [
      "[{'segmentation': [], 'num_keypoints': 8, 'iscrowd': 0, 'keypoints': [1244.4218181818185, 307.89818181818197, 2, 1244.4218181818185, 307.89818181818197, 2, 0, 0, 0, 0, 0, 0, 0, 0, 0, 1244.4218181818185, 307.89818181818197, 2, 0, 0, 0, 0, 0, 0], 'image_id': 18, 'category_id': 420, 'id': 10001, 'area': 0.0, 'bbox': [1244.4218181818185, 307.89818181818197, 0.0, 0.0]}]\n"
     ]
    }
   ],
   "source": [
    "print(annotations)"
   ]
  },
  {
   "cell_type": "code",
   "execution_count": null,
   "id": "8101eaae",
   "metadata": {},
   "outputs": [],
   "source": []
  },
  {
   "cell_type": "code",
   "execution_count": 17,
   "id": "f2f2eb0f",
   "metadata": {},
   "outputs": [
    {
     "ename": "SyntaxError",
     "evalue": "invalid syntax (3619660999.py, line 5)",
     "output_type": "error",
     "traceback": [
      "\u001b[0;36m  File \u001b[0;32m\"/tmp/ipykernel_18743/3619660999.py\"\u001b[0;36m, line \u001b[0;32m5\u001b[0m\n\u001b[0;31m    \"area\":\u001b[0m\n\u001b[0m         ^\u001b[0m\n\u001b[0;31mSyntaxError\u001b[0m\u001b[0;31m:\u001b[0m invalid syntax\n"
     ]
    }
   ],
   "source": []
  },
  {
   "cell_type": "code",
   "execution_count": 13,
   "id": "34727466",
   "metadata": {},
   "outputs": [
    {
     "name": "stdout",
     "output_type": "stream",
     "text": [
      "[]\n"
     ]
    }
   ],
   "source": [
    "print(annotation)"
   ]
  },
  {
   "cell_type": "code",
   "execution_count": null,
   "id": "277dd76b",
   "metadata": {},
   "outputs": [],
   "source": []
  }
 ],
 "metadata": {
  "kernelspec": {
   "display_name": "Python [conda env:vision] *",
   "language": "python",
   "name": "conda-env-vision-py"
  },
  "language_info": {
   "codemirror_mode": {
    "name": "ipython",
    "version": 3
   },
   "file_extension": ".py",
   "mimetype": "text/x-python",
   "name": "python",
   "nbconvert_exporter": "python",
   "pygments_lexer": "ipython3",
   "version": "3.7.11"
  }
 },
 "nbformat": 4,
 "nbformat_minor": 5
}
